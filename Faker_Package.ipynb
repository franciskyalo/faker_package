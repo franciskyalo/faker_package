{
  "nbformat": 4,
  "nbformat_minor": 0,
  "metadata": {
    "colab": {
      "provenance": [],
      "authorship_tag": "ABX9TyOIZ/F3ldRZxuxZxYResEcK",
      "include_colab_link": true
    },
    "kernelspec": {
      "name": "python3",
      "display_name": "Python 3"
    },
    "language_info": {
      "name": "python"
    }
  },
  "cells": [
    {
      "cell_type": "markdown",
      "metadata": {
        "id": "view-in-github",
        "colab_type": "text"
      },
      "source": [
        "<a href=\"https://colab.research.google.com/github/franciskyalo/faker_package/blob/main/Faker_Package.ipynb\" target=\"_parent\"><img src=\"https://colab.research.google.com/assets/colab-badge.svg\" alt=\"Open In Colab\"/></a>"
      ]
    },
    {
      "cell_type": "code",
      "source": [
        "!pip install faker"
      ],
      "metadata": {
        "colab": {
          "base_uri": "https://localhost:8080/"
        },
        "id": "Bnxc49G82DYK",
        "outputId": "ebf08609-e3a7-4f34-f818-2d2fee6f6e10"
      },
      "execution_count": 1,
      "outputs": [
        {
          "output_type": "stream",
          "name": "stdout",
          "text": [
            "Collecting faker\n",
            "  Downloading Faker-33.1.0-py3-none-any.whl.metadata (15 kB)\n",
            "Requirement already satisfied: python-dateutil>=2.4 in /usr/local/lib/python3.10/dist-packages (from faker) (2.8.2)\n",
            "Requirement already satisfied: typing-extensions in /usr/local/lib/python3.10/dist-packages (from faker) (4.12.2)\n",
            "Requirement already satisfied: six>=1.5 in /usr/local/lib/python3.10/dist-packages (from python-dateutil>=2.4->faker) (1.17.0)\n",
            "Downloading Faker-33.1.0-py3-none-any.whl (1.9 MB)\n",
            "\u001b[2K   \u001b[90m━━━━━━━━━━━━━━━━━━━━━━━━━━━━━━━━━━━━━━━━\u001b[0m \u001b[32m1.9/1.9 MB\u001b[0m \u001b[31m24.9 MB/s\u001b[0m eta \u001b[36m0:00:00\u001b[0m\n",
            "\u001b[?25hInstalling collected packages: faker\n",
            "Successfully installed faker-33.1.0\n"
          ]
        }
      ]
    },
    {
      "cell_type": "code",
      "execution_count": 2,
      "metadata": {
        "colab": {
          "base_uri": "https://localhost:8080/"
        },
        "id": "T_IRd53Z1HMi",
        "outputId": "cf9f00cd-3c22-4702-d698-d9b1849b4d2f"
      },
      "outputs": [
        {
          "output_type": "stream",
          "name": "stdout",
          "text": [
            "First few rows of the generated data:\n",
            "          Zone     Sales        Date       Sales_Rep\n",
            "45     Eastern  39509.08  2023-12-24   John Santiago\n",
            "22     Central   2188.69  2023-12-25     Linda Adams\n",
            "95  Riftvalley  35557.81  2023-12-27  Stanley Torres\n",
            "68     Eastern  37233.88  2023-12-30    Roberto Vega\n",
            "24     Central  46806.86  2024-01-04    John Charles\n"
          ]
        }
      ],
      "source": [
        "from faker import Faker\n",
        "import pandas as pd\n",
        "import random\n",
        "\n",
        "# Initialize Faker\n",
        "fake = Faker()\n",
        "\n",
        "# Create lists to store our data\n",
        "zones = ['Central', 'Eastern', 'Riftvalley']\n",
        "data = []\n",
        "\n",
        "# Generate 100 fake records\n",
        "for _ in range(100):\n",
        "    record = {\n",
        "        'Zone': random.choice(zones),\n",
        "        'Sales': round(random.uniform(1000, 50000), 2),\n",
        "        'Date': fake.date_between(start_date='-1y', end_date='today'),\n",
        "        'Sales_Rep': fake.name()\n",
        "    }\n",
        "    data.append(record)\n",
        "\n",
        "# Create DataFrame\n",
        "df = pd.DataFrame(data)\n",
        "\n",
        "# Sort by date\n",
        "df = df.sort_values('Date')\n",
        "\n",
        "# Save to CSV\n",
        "df.to_csv('sales_data.csv', index=False)\n",
        "\n",
        "# Display first few rows\n",
        "print(\"First few rows of the generated data:\")\n",
        "print(df.head())"
      ]
    }
  ]
}